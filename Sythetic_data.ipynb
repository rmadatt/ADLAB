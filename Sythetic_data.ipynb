{
  "nbformat": 4,
  "nbformat_minor": 0,
  "metadata": {
    "colab": {
      "provenance": [],
      "authorship_tag": "ABX9TyO2bCJ3gxl3mYWpQ3YSfvHN",
      "include_colab_link": true
    },
    "kernelspec": {
      "name": "python3",
      "display_name": "Python 3"
    },
    "language_info": {
      "name": "python"
    }
  },
  "cells": [
    {
      "cell_type": "markdown",
      "metadata": {
        "id": "view-in-github",
        "colab_type": "text"
      },
      "source": [
        "<a href=\"https://colab.research.google.com/github/rmadatt/ADLAB/blob/main/Sythetic_data.ipynb\" target=\"_parent\"><img src=\"https://colab.research.google.com/assets/colab-badge.svg\" alt=\"Open In Colab\"/></a>"
      ]
    },
    {
      "cell_type": "code",
      "execution_count": 1,
      "metadata": {
        "colab": {
          "base_uri": "https://localhost:8080/"
        },
        "id": "7hEFaL-OwxCb",
        "outputId": "2ec7b09d-95bb-4f04-b257-2f7d195b3b7a"
      },
      "outputs": [
        {
          "output_type": "stream",
          "name": "stdout",
          "text": [
            "✅ Sample dataset 'legacy_metrics.csv' generated successfully.\n"
          ]
        }
      ],
      "source": [
        "import pandas as pd\n",
        "import numpy as np\n",
        "\n",
        "# Generate synthetic data\n",
        "np.random.seed(42)\n",
        "data = {\n",
        "    'Session_ID': range(1, 101),\n",
        "    'Engagement_Score': np.random.normal(loc=75, scale=10, size=100),\n",
        "    'Emotional_Intensity': np.random.normal(loc=50, scale=15, size=100),\n",
        "    'Reflection_Depth': np.random.normal(loc=60, scale=12, size=100),\n",
        "    'Prompt_Complexity': np.random.normal(loc=40, scale=8, size=100),\n",
        "    'Legacy_Flag': np.random.choice([0, 1], size=100, p=[0.7, 0.3])\n",
        "}\n",
        "\n",
        "df = pd.DataFrame(data)\n",
        "\n",
        "# Save to CSV\n",
        "df.to_csv('legacy_metrics.csv', index=False)\n",
        "print(\"✅ Sample dataset 'legacy_metrics.csv' generated successfully.\")\n"
      ]
    }
  ]
}